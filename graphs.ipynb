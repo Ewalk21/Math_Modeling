{
 "cells": [
  {
   "cell_type": "code",
   "execution_count": 1,
   "metadata": {
    "collapsed": false
   },
   "outputs": [
   ],
   "source": [
    "import matplotlib.pyplot as plt\n",
    "import numpy as np"
   ]
  },
  {
   "cell_type": "code",
   "execution_count": 2,
   "metadata": {
    "collapsed": false
   },
   "outputs": [
    {
     "data": {
      "text/plain": [
       "<matplotlib.legend.Legend at 0x7fb5c8915ba8>"
      ]
     },
     "execution_count": 2,
     "metadata": {
     },
     "output_type": "execute_result"
    },
    {
     "data": {
      "image/png": "[encoded data removed]"
     },
     "metadata": {
      "image/png": {
       "height": 386,
       "width": 567
      }
     }
    }
   ],
   "source": [
    "plt.figure(figsize=(9, 6))\n",
    "plt.subplot(111)\n",
    "\n",
    "X = [4.3, 4.4, 4.45, 4.5, 5.5, 6.6, 7.7, 8.8, 9.9, 11, 13.2, 15.4]\n",
    "Y1 = [2079, 2088, 2106, 2124, 2167, 2232, 2262, 2280, 2300, 2345, 2361, 2383]\n",
    "Y2 = [2109, 2127, 2138, 2161, 2205, 2269, 2295, 2320, 2336, 2381, 2399, 2419]\n",
    "Y3 = [2028, 2034, 2039, 2086, 2118, 2165, 2194, 2212, 2235, 2284, 2322, 2345]\n",
    "\n",
    "\n",
    "plt.scatter(X, Y1, c = \"blue\", label = '$SiO_{2}$+$Al_{2}O_{3}$ at 107F/hr')\n",
    "plt.scatter(X, Y2, c = \"red\", label = '$SiO_{2}$+$Al_{2}O_{3}$ at 270F/hr')\n",
    "plt.scatter(X, Y3, c = \"green\",label = '$SiO_{2}$+$Al_{2}O_{3}$ at 27F/hr')\n",
    "\n",
    "ax = plt.gca()\n",
    "ax.set_title('Glass Former Molarity vs. Melting Temperature (Fahrenheit)')\n",
    "\n",
    "ax.set_xlabel('Mols Glass former')\n",
    "ax.set_ylabel('Melting Temperature (F)')\n",
    "#plt.xlim(0, 10)\n",
    "#plt.ylim(0, 20)\n",
    "\n",
    "#plt.xticks([2, 8],\n",
    "#          [r'a' , r'b'])\n",
    "#plt.yticks([2, 8], [r'f(b)' , r'f(a)'])\n",
    "\n",
    "plt.legend(loc='lower right')   #'best' is also a parameter to legend(), works well\n",
    "\n"
   ]
  },
  {
   "cell_type": "code",
   "execution_count": 3,
   "metadata": {
    "collapsed": false
   },
   "outputs": [
    {
     "data": {
      "text/plain": [
       "Text(0,0.5,'moles')"
      ]
     },
     "execution_count": 3,
     "metadata": {
     },
     "output_type": "execute_result"
    },
    {
     "data": {
      "image/png": "[encoded data removed]"
     },
     "metadata": {
      "image/png": {
       "height": 386,
       "width": 561
      }
     }
    }
   ],
   "source": [
    "plt.figure(figsize=(9, 6))\n",
    "plt.subplot(111)\n",
    "\n",
    "Y1 = np.array([0.3, 0.4, 0.45, 0.5, 0.5, 0.6, 0.7, 0.8, 0.9, 1.0, 1.2, 1.4]) #alumina\n",
    "Y2 = np.array([4.0, 4.0, 4.0, 4.0, 5.0, 6.0, 7.0, 8.0, 9.0, 10, 12, 14]) #silica\n",
    "Y = Y1/Y2\n",
    "X = np.array([1,2,3,4,5,6,7,8,9,10,11,12])\n",
    "\n",
    "\n",
    "plt.scatter(X, Y, c = \"blue\", label = r'$Alumina+Silica$')\n",
    "#plt.scatter(X, Y1, c = \"green\", label = r'$Alumina$')\n",
    "#plt.scatter(X, Y2, c = \"red\", label = r'$Silica$')\n",
    "\n",
    "ax = plt.gca()\n",
    "ax.set_title('Glass Former Molarity vs. Melting Temperature (Fahrenheit)')\n",
    "\n",
    "ax.set_xlabel('cone')\n",
    "ax.set_ylabel('moles')\n",
    "#plt.xlim(0, 10)\n",
    "#plt.ylim(0, 20)\n",
    "\n",
    "#plt.xticks([2, 8],\n",
    "#          [r'a' , r'b'])\n",
    "#plt.yticks([2, 8], [r'f(b)' , r'f(a)'])\n",
    "\n",
    "#plt.legend(loc='lower right')   #'best' is also a parameter to legend(), works well\n"
   ]
  },
  {
   "cell_type": "code",
   "execution_count": 4,
   "metadata": {
    "collapsed": false
   },
   "outputs": [
    {
     "data": {
      "text/plain": [
       "<matplotlib.legend.Legend at 0x7fb5c7ffc4a8>"
      ]
     },
     "execution_count": 4,
     "metadata": {
     },
     "output_type": "execute_result"
    },
    {
     "data": {
      "image/png": "[encoded data removed]"
     },
     "metadata": {
      "image/png": {
       "height": 494,
       "width": 731
      }
     }
    }
   ],
   "source": [
    "plt.figure(figsize=(12, 8))\n",
    "plt.subplot(111)\n",
    "\n",
    "X = [4.3, 4.4, 4.45, 4.5, 5.5, 6.6, 7.7, 8.8, 9.9, 11, 13.2, 15.4]\n",
    "X1 = [0.3, 0.4, 0.45, 0.5, 0.5, 0.6, 0.7, 0.8, 0.9, 1.0, 1.2, 1.4] #alumina\n",
    "X2 = [4.0, 4.0, 4.0, 4.0, 5.0, 6.0, 7.0, 8.0, 9.0, 10, 12, 14] #silica\n",
    "Y = [2077, 2088, 2106, 2134, 2151, 2194, 2219, 2257, 2300, 2345, 2361, 2383]\n",
    "\n",
    "\n",
    "plt.scatter(X, Y, c = \"blue\", label = r'$Alumina+Silica$')\n",
    "plt.scatter(X1, Y, c = \"green\", label = r'$Alumina$')\n",
    "plt.scatter(X2, Y, c = \"red\", label = r'$Silica$')\n",
    "\n",
    "ax = plt.gca()\n",
    "ax.set_title('Glass Former Molarity vs. Melting Temperature (Fahrenheit)')\n",
    "\n",
    "ax.set_xlabel('Mols Glass former')\n",
    "ax.set_ylabel('Melting Temperature (F)')\n",
    "#plt.xlim(0, 10)\n",
    "#plt.ylim(0, 20)\n",
    "\n",
    "#plt.xticks([2, 8],\n",
    "#          [r'a' , r'b'])\n",
    "#plt.yticks([2, 8], [r'f(b)' , r'f(a)'])\n",
    "\n",
    "plt.legend(loc='lower right')   #'best' is also a parameter to legend(), works well\n",
    "\n"
   ]
  },
  {
   "cell_type": "code",
   "execution_count": 5,
   "metadata": {
    "collapsed": false
   },
   "outputs": [
   ],
   "source": [
    "## model for m with lstsqr and y = alog(x)"
   ]
  },
  {
   "cell_type": "code",
   "execution_count": 6,
   "metadata": {
    "collapsed": false
   },
   "outputs": [
    {
     "name": "stdout",
     "output_type": "stream",
     "text": [
      "1057.28981944\n"
     ]
    },
    {
     "data": {
      "text/plain": [
       "<matplotlib.legend.Legend at 0x7fb5c8412e10>"
      ]
     },
     "execution_count": 6,
     "metadata": {
     },
     "output_type": "execute_result"
    },
    {
     "data": {
      "image/png": "[encoded data removed]"
     },
     "metadata": {
      "image/png": {
       "height": 386,
       "width": 564
      }
     }
    }
   ],
   "source": [
    "plt.figure(figsize=(9, 6))\n",
    "plt.subplot(111)\n",
    "\n",
    "#X1 = [0.3, 0.4, 0.45, 0.5, 0.5, 0.6, 0.7, 0.8, 0.9, 1.0, 1.2, 1.4] #alumina\n",
    "#X2 = [4.0, 4.0, 4.0, 4.0, 5.0, 6.0, 7.0, 8.0, 9.0, 10, 12, 14] #silica\n",
    "\n",
    "X = np.array([4.3, 4.4, 4.45, 4.5, 5.5, 6.6, 7.7, 8.8, 9.9, 11, 13.2, 15.4])\n",
    "Y = np.array([2028, 2034, 2039, 2086, 2118, 2165, 2194, 2212, 2235, 2284, 2322, 2345])\n",
    "x =  np.linspace(4, 16, 1000, endpoint=True)\n",
    "X1 = np.log(X)\n",
    "a = np.sum(Y*X1)/np.sum(np.square(X1))\n",
    "print(a)\n",
    "#yy= a*np.log(x)   #y=alogx\n",
    "\n",
    "y = -1.9*(np.square(x))+(64.1)*x + 1806.2   #lstsqr\n",
    "y2 = -1.8*np.square(x)+61.8*x + 10*np.sin(1.2*x) +1818.5\n",
    "\n",
    "\n",
    "plt.scatter(X, Y, c = \"red\", label = r'$Alumina+Silica$')\n",
    "#plt.plot(x, yy, c = \"red\", linestyle = \"-\", label = '$m(x)$')\n",
    "plt.plot(x, y, c = \"blue\", linestyle = \"-\", label = '$m(x)$')\n",
    "plt.plot(x, y2, c = \"red\", linestyle = \"-\", label = 'sine adjusted $m(x)$')\n",
    "\n",
    "\n",
    "\n",
    "\n",
    "#plt.scatter(X1, Y, c = \"green\", label = r'$Alumina$')\n",
    "#plt.scatter(X2, Y, c = \"red\", label = r'$Silica$')\n",
    "\n",
    "ax = plt.gca()\n",
    "ax.set_title('Glass Former Molarity vs. Melting Temperature (Fahrenheit)')\n",
    "\n",
    "ax.set_xlabel('Mols Glass former')\n",
    "ax.set_ylabel('Melting Temperature (F)')\n",
    "#plt.xlim(4, 13)\n",
    "#plt.ylim(0, 20)\n",
    "\n",
    "#plt.xticks([2, 8],\n",
    "#          [r'a' , r'b'])\n",
    "#plt.yticks([2, 8], [r'f(b)' , r'f(a)'])\n",
    "\n",
    "plt.legend(loc='lower right')   #'best' is also a parameter to legend(), works well\n",
    "\n"
   ]
  },
  {
   "cell_type": "code",
   "execution_count": 7,
   "metadata": {
    "collapsed": false
   },
   "outputs": [
   ],
   "source": [
    "## modle for g using lstsqr"
   ]
  },
  {
   "cell_type": "code",
   "execution_count": 8,
   "metadata": {
    "collapsed": false
   },
   "outputs": [
    {
     "data": {
      "text/plain": [
       "<matplotlib.legend.Legend at 0x7fb5c8045d68>"
      ]
     },
     "execution_count": 8,
     "metadata": {
     },
     "output_type": "execute_result"
    },
    {
     "data": {
      "image/png": "[encoded data removed]"
     },
     "metadata": {
      "image/png": {
       "height": 386,
       "width": 560
      }
     }
    }
   ],
   "source": [
    "plt.figure(figsize=(9, 6))\n",
    "plt.subplot(111)\n",
    "\n",
    "X1 = np.array([27,108,270])\n",
    "#X1 = [0.3, 0.4, 0.45, 0.5, 0.5, 0.6, 0.7, 0.8, 0.9, 1.0, 1.2, 1.4] #alumina\n",
    "#X2 = [4.0, 4.0, 4.0, 4.0, 5.0, 6.0, 7.0, 8.0, 9.0, 10, 12, 14] #silica\n",
    "Y = np.array([0, 55.25, 91.1667])\n",
    "#Y = np.log(Y)\n",
    "#X = np.log(X)\n",
    "X =  np.linspace(0, 300, 1000, endpoint=True)\n",
    "Y2 = (.93787)*X - 23.9413577 - 1.89461*(np.square(X))/1000\n",
    "\n",
    "plt.scatter(X1, Y, c = \"blue\", s = 100, label = r'$given data$')\n",
    "#plt.scatter(X1, Y, c = \"green\", label = r'$Alumina$')\n",
    "#plt.scatter(X2, Y, c = \"red\", label = r'$Silica$')\n",
    "plt.plot(X, Y2, c = \"red\", linestyle = \"-\", label = '$g(r)$')\n",
    "\n",
    "ax = plt.gca()\n",
    "ax.set_title('Rate of Heating vs. Ave Change in Melting Temperature (Fahrenheit)')\n",
    "\n",
    "ax.set_xlabel('Rate of Heating (F/hr)')\n",
    "ax.set_ylabel('Ave Change in Melting Temperature (F)')\n",
    "plt.legend(loc='lower right')   #'best' is also a parameter to legend(), works well\n"
   ]
  },
  {
   "cell_type": "code",
   "execution_count": 9,
   "metadata": {
    "collapsed": false
   },
   "outputs": [
    {
     "data": {
      "text/plain": [
       "<matplotlib.legend.Legend at 0x7fb5c8890208>"
      ]
     },
     "execution_count": 9,
     "metadata": {
     },
     "output_type": "execute_result"
    },
    {
     "data": {
      "image/png": "[encoded data removed]"
     },
     "metadata": {
      "image/png": {
       "height": 386,
       "width": 564
      }
     }
    }
   ],
   "source": [
    "#lstsqr model f(x,r)\n",
    "plt.figure(figsize=(9, 6))\n",
    "plt.subplot(111)\n",
    "\n",
    "X = [4.3, 4.4, 4.45, 4.5, 5.5, 6.6, 7.7, 8.8, 9.9, 11, 13.2, 15.4]\n",
    "Y1 = [2079, 2088, 2106, 2124, 2167, 2232, 2262, 2280, 2300, 2345, 2361, 2383] #108\n",
    "Y2 = [2109, 2127, 2138, 2161, 2205, 2269, 2295, 2320, 2336, 2381, 2399, 2419] #270\n",
    "Y3 = [2028, 2034, 2039, 2086, 2118, 2165, 2194, 2212, 2235, 2284, 2322, 2345] #27\n",
    "\n",
    "x =  np.linspace(0, 300, 1000, endpoint=True)\n",
    "x1 =  np.linspace(4, 16, 1000, endpoint=True)\n",
    "y1 = -1.9*(np.square(x1))+(64.1)*x1 + 1806.2  #lstsqr m(x)\n",
    "#y = (.93787)*x - 23.9413577 - 1.89461*(np.square(x))/1000 #g(r)\n",
    "y2 = -1.8*np.square(x1) + 61.8*x1 + 10*np.sin(1.2*x1) + 1818.5\n",
    "\n",
    "f27 = y1 + ((.93787)*27 - 23.9413577 - 1.89461*(27*27)/1000 )\n",
    "f108 = y1 + ((.93787)*108 - 23.9413577 - 1.89461*(np.square(108))/1000 )\n",
    "f270 = y1 + ((.93787)*270 - 23.9413577 - 1.89461*(np.square(270))/1000 )\n",
    "tf27 = y2 + ((.93787)*27 - 23.9413577 - 1.89461*(27*27)/1000 )\n",
    "tf108 = y2 + ((.93787)*108 - 23.9413577 - 1.89461*(np.square(108))/1000 )\n",
    "tf270 = y2 + ((.93787)*270 - 23.9413577 - 1.89461*(np.square(270))/1000 )\n",
    "\n",
    "plt.scatter(X, Y3, c = \"green\",s = 15, label = '$SiO_{2}$+$Al_{2}O_{3}$ at 27F/hr')\n",
    "plt.scatter(X, Y1, c = \"blue\",s = 15, label = '$SiO_{2}$+$Al_{2}O_{3}$ at 108F/hr')\n",
    "plt.scatter(X, Y2, c = \"red\",s = 15, label = '$SiO_{2}$+$Al_{2}O_{3}$ at 270F/hr')\n",
    "#plt.plot(x1, f27, c = \"green\", linestyle = \"-\", label = '$f(x,27)$')\n",
    "#plt.plot(x1, f108, c = \"blue\", linestyle = \"-\", label = '$f(x,108)$')\n",
    "#plt.plot(x1, f270, c = \"red\", linestyle = \"-\", label = '$f(x,270)$')\n",
    "plt.plot(x1, tf27, c = \"green\", linestyle = \"-\", label = '$f(x,27)$')\n",
    "plt.plot(x1, tf108, c = \"blue\", linestyle = \"-\", label = '$f(x,108)$')\n",
    "plt.plot(x1, tf270, c = \"red\", linestyle = \"-\", label = '$f(x,270)$')\n",
    "\n",
    "ax = plt.gca()\n",
    "ax.set_title('Glass Former Molarity vs. Melting Temperature (Fahrenheit)')\n",
    "\n",
    "ax.set_xlabel('Mols Glass former')\n",
    "ax.set_ylabel('Melting Temperature (F)')\n",
    "#plt.xlim(0, 10)\n",
    "#plt.ylim(0, 20)\n",
    "\n",
    "#plt.xticks([2, 8],\n",
    "#          [r'a' , r'b'])\n",
    "#plt.yticks([2, 8], [r'f(b)' , r'f(a)'])\n",
    "\n",
    "plt.legend(loc='lower right')   #'best' is also a parameter to legend(), works well"
   ]
  },
  {
   "cell_type": "markdown",
   "metadata": {
    "collapsed": false
   },
   "source": [
    "### "
   ]
  },
  {
   "cell_type": "code",
   "execution_count": 10,
   "metadata": {
    "collapsed": false
   },
   "outputs": [
    {
     "data": {
      "text/plain": [
       "[<matplotlib.lines.Line2D at 0x7fb5c8829f28>]"
      ]
     },
     "execution_count": 10,
     "metadata": {
     },
     "output_type": "execute_result"
    },
    {
     "data": {
      "image/png": "[encoded data removed]"
     },
     "metadata": {
      "image/png": {
       "height": 358,
       "width": 544
      }
     }
    }
   ],
   "source": [
    "plt.figure(figsize=(9, 6))\n",
    "plt.subplot(111)\n",
    "\n",
    "X = np.array([46, 49, 51, 52, 54,56, 57, 58, 59, 60, 61,62,63,64,66,67,68, 71,72])\n",
    "Y = np.array([40,50,55,63,72,70,77,73,90,93,96,88,99,110,113,120,127,137,132])\n",
    "\n",
    "\n",
    "x =  np.linspace(46, 72, 1000, endpoint=True)\n",
    "y = 1000*((.0001)*np.power(x,3) - (.0123)*np.power(x,2) + .4729*x -6.7621)\n",
    "y2 = (-.0020)*np.power(x,3) + (.3760)*np.power(x,2) -19.5606*x + 339.5483\n",
    "\n",
    "plt.scatter(X, Y, c = \"red\",s = 15)\n",
    "#plt.plot(x, y, c = \"green\", linestyle = \"-\")\n",
    "plt.plot(x, y2, c = \"blue\", linestyle = \"-\")"
   ]
  },
  {
   "cell_type": "code",
   "execution_count": 11,
   "metadata": {
    "collapsed": false
   },
   "outputs": [
    {
     "data": {
      "text/plain": [
       "<matplotlib.collections.PathCollection at 0x7fb5c878eba8>"
      ]
     },
     "execution_count": 11,
     "metadata": {
     },
     "output_type": "execute_result"
    },
    {
     "data": {
      "image/png": "[encoded data removed]"
     },
     "metadata": {
      "image/png": {
       "height": 358,
       "width": 540
      }
     }
    }
   ],
   "source": [
    "plt.figure(figsize=(9, 6))\n",
    "plt.subplot(111)\n",
    "\n",
    "X = np.array([46, 49, 51, 52, 54,56, 57, 58, 59, 60, 61,62,63,64,66,67,68, 71,72])\n",
    "Y = np.array([40,50,55,63,72,70,77,73,90,93,96,88,99,110,113,120,127,137,132])\n",
    "\n",
    "\n",
    "x =  np.linspace(46, 72, 1000, endpoint=True)\n",
    "y = 1000*((.0001)*np.power(X,3) - (.0123)*np.power(X,2) + .4729*X -6.7621)\n",
    "y2 = (-.0020)*np.power(X,3) + (.3760)*np.power(X,2) -19.5606*X + 339.5483\n",
    "dev = Y - y2\n",
    "\n",
    "plt.scatter(Y, dev, c = \"red\",s = 15)\n",
    "#plt.plot(x, y, c = \"green\", linestyle = \"-\")\n",
    "#plt.plot(x, y2, c = \"blue\", linestyle = \"-\")"
   ]
  },
  {
   "cell_type": "code",
   "execution_count": 12,
   "metadata": {
    "collapsed": false
   },
   "outputs": [
    {
     "name": "stdout",
     "output_type": "stream",
     "text": [
      "[-0.50059863  1.4988306   3.49691976]\n"
     ]
    },
    {
     "data": {
      "text/plain": [
       "[<matplotlib.lines.Line2D at 0x7fb5c87c17f0>]"
      ]
     },
     "execution_count": 12,
     "metadata": {
     },
     "output_type": "execute_result"
    },
    {
     "data": {
      "image/png": "[encoded data removed]"
     },
     "metadata": {
      "image/png": {
       "height": 413,
       "width": 717
      }
     }
    }
   ],
   "source": [
    "## plt.figure(figsize=(9, 6))\n",
    "plt.subplot(111)\n",
    "\n",
    "X = np.array([2,6,10])\n",
    "Y = np.array([1887,4087,4853])\n",
    "Y1 = np.log(Y/(5000-Y))\n",
    "print(Y1)\n",
    "\n",
    "x =  np.linspace(2, 10, 1000, endpoint=True)\n",
    "y = .4997*x -1.4998\n",
    "\n",
    "plt.scatter(X, Y1, c = \"red\",s = 15)\n",
    "plt.plot(x, y, c = \"blue\", linestyle = \"-\")"
   ]
  },
  {
   "cell_type": "markdown",
   "metadata": {
    "collapsed": false
   },
   "source": [
    "## "
   ]
  }
 ],
 "metadata": {
  "kernelspec": {
   "display_name": "Python 3 (Anaconda)",
   "language": "python",
   "name": "anaconda3"
  },
  "language_info": {
   "codemirror_mode": {
    "name": "ipython",
    "version": 3
   },
   "file_extension": ".py",
   "mimetype": "text/x-python",
   "name": "python",
   "nbconvert_exporter": "python",
   "pygments_lexer": "ipython3",
   "version": "3.5.4"
  }
 },
 "nbformat": 4,
 "nbformat_minor": 0
}